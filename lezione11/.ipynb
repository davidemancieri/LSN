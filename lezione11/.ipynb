{
 "cells": [
  {
   "cell_type": "code",
   "execution_count": 129,
   "metadata": {},
   "outputs": [],
   "source": [
    "# target parameters of f(x) = a + b*x + c*x^2 + d*x^3\n",
    "a = 4\n",
    "b = -3\n",
    "c = -2\n",
    "d = 3"
   ]
  },
  {
   "cell_type": "code",
   "execution_count": 132,
   "metadata": {},
   "outputs": [],
   "source": [
    "import numpy as np\n",
    "\n",
    "# generate training inputs\n",
    "np.random.seed(0)\n",
    "x_train = np.random.uniform(-1, 1, 100)\n",
    "x_valid = np.random.uniform(-1, 1, 10)\n",
    "x_valid.sort()\n",
    "y_target = d * (x_valid**3) + c * (x_valid**2) + b * x_valid + a # ideal (target) linear function\n",
    "\n",
    "sigma = 0 # noise standard deviation, for the moment it is absent\n",
    "y_train = np.random.normal(d * (x_train**3) + c * (x_train**2) + b * x_train + a, sigma) # actual measures from which we want to guess regression parameters\n",
    "y_valid = np.random.normal(d * (x_valid**3) + c * (x_valid**2) + b * x_valid + a, sigma)"
   ]
  },
  {
   "cell_type": "code",
   "execution_count": 133,
   "metadata": {},
   "outputs": [
    {
     "data": {
      "image/png": "[encoded data removed]",
      "text/plain": [
       "<Figure size 432x288 with 1 Axes>"
      ]
     },
     "metadata": {
      "needs_background": "light"
     },
     "output_type": "display_data"
    }
   ],
   "source": [
    "# plot training and target dataset\n",
    "import matplotlib.pyplot as plt\n",
    "plt.plot(x_valid, y_target)\n",
    "plt.scatter(x_valid, y_valid, color='r')\n",
    "plt.grid(True); plt.show()"
   ]
  },
  {
   "cell_type": "code",
   "execution_count": 137,
   "metadata": {},
   "outputs": [],
   "source": [
    "# compose the NN model\n",
    "import tensorflow as tf\n",
    "from tensorflow import keras\n",
    "\n",
    "from tensorflow.keras.models import Sequential\n",
    "from tensorflow.keras.layers import Dense, Activation\n",
    "from tensorflow.keras import backend as K\n",
    "from tensorflow.keras.utils import get_custom_objects\n",
    "\n",
    "model = tf.keras.Sequential()\n",
    "model.add(Dense(1, input_shape=(1,)))\n",
    "\n",
    "# compile the model choosing optimizer, loss and metrics objects\n",
    "model.compile(optimizer='sgd', loss='mse', metrics=['mse'])"
   ]
  },
  {
   "cell_type": "code",
   "execution_count": 138,
   "metadata": {
    "scrolled": true
   },
   "outputs": [
    {
     "name": "stdout",
     "output_type": "stream",
     "text": [
      "Model: \"sequential_13\"\n",
      "_________________________________________________________________\n",
      "Layer (type)                 Output Shape              Param #   \n",
      "=================================================================\n",
      "dense_13 (Dense)             (None, 1)                 2         \n",
      "=================================================================\n",
      "Total params: 2\n",
      "Trainable params: 2\n",
      "Non-trainable params: 0\n",
      "_________________________________________________________________\n"
     ]
    }
   ],
   "source": [
    "# get a summary of our composed model\n",
    "model.summary()"
   ]
  },
  {
   "cell_type": "code",
   "execution_count": 139,
   "metadata": {},
   "outputs": [
    {
     "name": "stdout",
     "output_type": "stream",
     "text": [
      "Train on 100 samples, validate on 10 samples\n",
      "Epoch 1/30\n",
      "100/100 [==============================] - 0s 4ms/sample - loss: 13.1760 - mse: 13.1760 - val_loss: 10.6650 - val_mse: 10.6650\n",
      "Epoch 2/30\n",
      "100/100 [==============================] - 0s 621us/sample - loss: 11.3326 - mse: 11.3326 - val_loss: 9.2748 - val_mse: 9.2748\n",
      "Epoch 3/30\n",
      "100/100 [==============================] - 0s 446us/sample - loss: 9.8275 - mse: 9.8275 - val_loss: 8.0703 - val_mse: 8.0703\n",
      "Epoch 4/30\n",
      "100/100 [==============================] - 0s 728us/sample - loss: 8.5128 - mse: 8.5128 - val_loss: 7.0648 - val_mse: 7.0648\n",
      "Epoch 5/30\n",
      "100/100 [==============================] - 0s 740us/sample - loss: 7.4230 - mse: 7.4230 - val_loss: 6.2173 - val_mse: 6.2173\n",
      "Epoch 6/30\n",
      "100/100 [==============================] - 0s 686us/sample - loss: 6.5012 - mse: 6.5012 - val_loss: 5.4649 - val_mse: 5.4649\n",
      "Epoch 7/30\n",
      "100/100 [==============================] - 0s 858us/sample - loss: 5.6819 - mse: 5.6819 - val_loss: 4.7848 - val_mse: 4.7848\n",
      "Epoch 8/30\n",
      "100/100 [==============================] - 0s 580us/sample - loss: 4.9380 - mse: 4.9380 - val_loss: 4.2271 - val_mse: 4.2271\n",
      "Epoch 9/30\n",
      "100/100 [==============================] - 0s 959us/sample - loss: 4.3256 - mse: 4.3256 - val_loss: 3.7792 - val_mse: 3.7792\n",
      "Epoch 10/30\n",
      "100/100 [==============================] - 0s 991us/sample - loss: 3.8334 - mse: 3.8334 - val_loss: 3.3363 - val_mse: 3.3363\n",
      "Epoch 11/30\n",
      "100/100 [==============================] - 0s 768us/sample - loss: 3.3533 - mse: 3.3533 - val_loss: 3.0163 - val_mse: 3.0163\n",
      "Epoch 12/30\n",
      "100/100 [==============================] - 0s 786us/sample - loss: 3.0026 - mse: 3.0026 - val_loss: 2.7090 - val_mse: 2.7090\n",
      "Epoch 13/30\n",
      "100/100 [==============================] - 0s 671us/sample - loss: 2.6687 - mse: 2.6687 - val_loss: 2.4384 - val_mse: 2.4384\n",
      "Epoch 14/30\n",
      "100/100 [==============================] - 0s 695us/sample - loss: 2.3764 - mse: 2.3764 - val_loss: 2.2391 - val_mse: 2.2391\n",
      "Epoch 15/30\n",
      "100/100 [==============================] - 0s 919us/sample - loss: 2.1629 - mse: 2.1629 - val_loss: 2.0976 - val_mse: 2.0976\n",
      "Epoch 16/30\n",
      "100/100 [==============================] - 0s 552us/sample - loss: 2.0086 - mse: 2.0086 - val_loss: 1.9148 - val_mse: 1.9148\n",
      "Epoch 17/30\n",
      "100/100 [==============================] - 0s 456us/sample - loss: 1.8168 - mse: 1.8168 - val_loss: 1.8075 - val_mse: 1.8075\n",
      "Epoch 18/30\n",
      "100/100 [==============================] - 0s 647us/sample - loss: 1.7031 - mse: 1.7031 - val_loss: 1.6783 - val_mse: 1.6783\n",
      "Epoch 19/30\n",
      "100/100 [==============================] - 0s 674us/sample - loss: 1.5671 - mse: 1.5671 - val_loss: 1.5660 - val_mse: 1.5660\n",
      "Epoch 20/30\n",
      "100/100 [==============================] - 0s 678us/sample - loss: 1.4514 - mse: 1.4514 - val_loss: 1.4652 - val_mse: 1.4652\n",
      "Epoch 21/30\n",
      "100/100 [==============================] - 0s 608us/sample - loss: 1.3492 - mse: 1.3492 - val_loss: 1.3868 - val_mse: 1.3868\n",
      "Epoch 22/30\n",
      "100/100 [==============================] - 0s 929us/sample - loss: 1.2721 - mse: 1.2721 - val_loss: 1.3277 - val_mse: 1.3277\n",
      "Epoch 23/30\n",
      "100/100 [==============================] - 0s 997us/sample - loss: 1.2152 - mse: 1.2152 - val_loss: 1.2618 - val_mse: 1.2618\n",
      "Epoch 24/30\n",
      "100/100 [==============================] - 0s 1ms/sample - loss: 1.1514 - mse: 1.1514 - val_loss: 1.1977 - val_mse: 1.1977\n",
      "Epoch 25/30\n",
      "100/100 [==============================] - 0s 1ms/sample - loss: 1.0915 - mse: 1.0915 - val_loss: 1.1411 - val_mse: 1.1411\n",
      "Epoch 26/30\n",
      "100/100 [==============================] - 0s 966us/sample - loss: 1.0393 - mse: 1.0393 - val_loss: 1.0922 - val_mse: 1.0922\n",
      "Epoch 27/30\n",
      "100/100 [==============================] - 0s 917us/sample - loss: 0.9939 - mse: 0.9939 - val_loss: 1.0489 - val_mse: 1.0489\n",
      "Epoch 28/30\n",
      "100/100 [==============================] - 0s 1000us/sample - loss: 0.9547 - mse: 0.9547 - val_loss: 1.0007 - val_mse: 1.0007\n",
      "Epoch 29/30\n",
      "100/100 [==============================] - 0s 1ms/sample - loss: 0.9124 - mse: 0.9124 - val_loss: 0.9612 - val_mse: 0.9612\n",
      "Epoch 30/30\n",
      "100/100 [==============================] - 0s 963us/sample - loss: 0.8792 - mse: 0.8792 - val_loss: 0.9289 - val_mse: 0.9289\n"
     ]
    }
   ],
   "source": [
    "# fit the model using training dataset\n",
    "# over 10 epochs of 32 batch size each\n",
    "# report training progress against validation data\n",
    "history = model.fit(x=x_train, y=y_train, \n",
    "          batch_size=32, epochs=30,\n",
    "          shuffle=True, # a good idea is to shuffle input before at each epoch\n",
    "          validation_data=(x_valid, y_valid))"
   ]
  },
  {
   "cell_type": "code",
   "execution_count": 140,
   "metadata": {},
   "outputs": [
    {
     "data": {
      "text/plain": [
       "[array([[-0.17543052]], dtype=float32), array([3.0790565], dtype=float32)]"
      ]
     },
     "execution_count": 140,
     "metadata": {},
     "output_type": "execute_result"
    }
   ],
   "source": [
    "# return weights\n",
    "model.get_weights()"
   ]
  },
  {
   "cell_type": "code",
   "execution_count": 141,
   "metadata": {},
   "outputs": [
    {
     "name": "stdout",
     "output_type": "stream",
     "text": [
      "\n",
      "Test loss: 0.9288564920425415\n",
      "Test accuracy: 0.9288565\n"
     ]
    }
   ],
   "source": [
    "# evaluate model\n",
    "score = model.evaluate(x_valid, y_valid, batch_size=32, verbose=0)\n",
    "\n",
    "# print performance\n",
    "print()\n",
    "print('Test loss:', score[0])\n",
    "print('Test accuracy:', score[1])"
   ]
  },
  {
   "cell_type": "code",
   "execution_count": 142,
   "metadata": {},
   "outputs": [
    {
     "name": "stdout",
     "output_type": "stream",
     "text": [
      "\n",
      "Test loss: 0.9288564920425415\n",
      "Test accuracy: 0.9288565\n"
     ]
    }
   ],
   "source": [
    "# evaluate model with the exact curve\n",
    "score = model.evaluate(x_valid, y_target, batch_size=32, verbose=0)\n",
    "\n",
    "# print performance\n",
    "print()\n",
    "print('Test loss:', score[0])\n",
    "print('Test accuracy:', score[1])"
   ]
  },
  {
   "cell_type": "code",
   "execution_count": 143,
   "metadata": {},
   "outputs": [
    {
     "data": {
      "image/png": "[encoded data removed]",
      "text/plain": [
       "<Figure size 432x288 with 1 Axes>"
      ]
     },
     "metadata": {
      "needs_background": "light"
     },
     "output_type": "display_data"
    }
   ],
   "source": [
    "# look into training history\n",
    "# Plot training & validation loss values\n",
    "plt.plot(history.history['loss'])\n",
    "plt.plot(history.history['val_loss'])\n",
    "plt.title('Model loss')\n",
    "plt.ylabel('Loss')\n",
    "plt.xlabel('Epoch')\n",
    "plt.legend(['Train', 'Test'], loc='best')\n",
    "plt.show()"
   ]
  },
  {
   "cell_type": "code",
   "execution_count": 144,
   "metadata": {},
   "outputs": [
    {
     "data": {
      "image/png": "[encoded data removed]",
      "text/plain": [
       "<Figure size 432x288 with 1 Axes>"
      ]
     },
     "metadata": {
      "needs_background": "light"
     },
     "output_type": "display_data"
    }
   ],
   "source": [
    "x_predicted = np.random.uniform(-1, 1, 100)\n",
    "y_predicted = model.predict(x_predicted)\n",
    "plt.scatter(x_predicted, y_predicted,color='r')\n",
    "plt.plot(x_valid, y_target)\n",
    "plt.grid(True)\n",
    "plt.show()"
   ]
  },
  {
   "cell_type": "code",
   "execution_count": null,
   "metadata": {},
   "outputs": [],
   "source": []
  },
  {
   "cell_type": "code",
   "execution_count": null,
   "metadata": {},
   "outputs": [],
   "source": []
  }
 ],
 "metadata": {
  "kernelspec": {
   "display_name": "Python 3",
   "language": "python",
   "name": "python3"
  },
  "language_info": {
   "codemirror_mode": {
    "name": "ipython",
    "version": 3
   },
   "file_extension": ".py",
   "mimetype": "text/x-python",
   "name": "python",
   "nbconvert_exporter": "python",
   "pygments_lexer": "ipython3",
   "version": "3.7.4"
  }
 },
 "nbformat": 4,
 "nbformat_minor": 2
}
